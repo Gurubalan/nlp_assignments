{
 "cells": [
  {
   "cell_type": "code",
   "execution_count": 1,
   "metadata": {},
   "outputs": [],
   "source": [
    "# **Question 1.** Write a python program to find out the words after '@' from the below sentences\n",
    "# with the use of regex.\n",
    "\n",
    "# \"xyz@gmail.com\",\n",
    "# \"abc@yahoo.com\",\n",
    "# \"xyz@hotmail.com\",\n",
    "# \"abc@ineuron.ai\",\n",
    "# \"xyz@outlook.com\"\n",
    "\n",
    "email_list=[\"xyz@gmail.com\",\n",
    "\"abc@yahoo.com\",\n",
    "\"xyz@hotmail.com\",\n",
    "\"abc@ineuron.ai\",\n",
    "\"xyz@outlook.com\"]"
   ]
  },
  {
   "cell_type": "code",
   "execution_count": 2,
   "metadata": {},
   "outputs": [],
   "source": [
    "import nltk \n",
    "import re"
   ]
  },
  {
   "cell_type": "code",
   "execution_count": 43,
   "metadata": {},
   "outputs": [
    {
     "name": "stdout",
     "output_type": "stream",
     "text": [
      "@gmail.com\n",
      "\n"
     ]
    }
   ],
   "source": [
    "email = \"xyz@gmail.com\"\n",
    "# domain = email.split('@')[1]\n",
    "# print(domain)\n",
    "domain = re.search('@\\w+\\.\\w+', email)\n",
    "# @(\\w+)  '@*?\\.'\n",
    "print(domain.group())\n",
    "\n",
    "result = re.match(r\"[@]*\", email)\n",
    "print(result.group(0))"
   ]
  },
  {
   "cell_type": "code",
   "execution_count": 41,
   "metadata": {},
   "outputs": [
    {
     "name": "stdout",
     "output_type": "stream",
     "text": [
      "<class 're.Match'> The film Titanic was released in 1998\n"
     ]
    }
   ],
   "source": [
    "text = \"The film Titanic was released in 1998\"\n",
    "result = re.match(r\".*\", text)\n",
    "print(type(result),result.group(0))"
   ]
  },
  {
   "cell_type": "code",
   "execution_count": 29,
   "metadata": {},
   "outputs": [
    {
     "name": "stdout",
     "output_type": "stream",
     "text": [
      "@gmail.com\n",
      "@yahoo.com\n",
      "@hotmail.com\n",
      "@ineuron.ai\n",
      "@outlook.com\n"
     ]
    }
   ],
   "source": [
    "email_addr='xyz@gmail.com,abc@yahoo.com,xyz@hotmail.com,abc@ineuron.ai,xyz@outlook.com'\n",
    "email_list=email_addr.split(',')\n",
    "len(email_list)\n",
    "for email in email_list:\n",
    "    #domain = email.split('@')[1]\n",
    "    domain = re.search('@\\w+\\.\\w+', email)\n",
    "    print(domain.group())"
   ]
  },
  {
   "cell_type": "code",
   "execution_count": 48,
   "metadata": {},
   "outputs": [
    {
     "name": "stdout",
     "output_type": "stream",
     "text": [
      "['xyz@gmail.com', 'abc@yahoo.com', 'xyz@hotmail.com', 'abc@ineuron.ai', 'xyz@outlook.com']\n",
      "gmail.com\n",
      "yahoo.com\n",
      "hotmail.com\n",
      "ineuron.ai\n",
      "outlook.com\n"
     ]
    }
   ],
   "source": [
    "email_addr='xyz@gmail.com,abc@yahoo.com,xyz@hotmail.com,abc@ineuron.ai,xyz@outlook.com'\n",
    "email_list=re.split(r'\\,',email_addr)\n",
    "print(email_list)\n",
    "len(email_list)\n",
    "for email in email_list:\n",
    "    #domain = email.split('@')[1]\n",
    "    domain = re.split(r'\\@',email)\n",
    "    print(domain[1])"
   ]
  },
  {
   "cell_type": "code",
   "execution_count": 51,
   "metadata": {},
   "outputs": [
    {
     "name": "stdout",
     "output_type": "stream",
     "text": [
      "Delhi is the capital of India\n"
     ]
    }
   ],
   "source": [
    "#**Question 2.** Write a python program with the use of regex to take out the word \"New\" \n",
    "#from the following sentence.\n",
    "\n",
    "[\"New Delhi is the capital of India\"]\n",
    "\n",
    "s1 = \"New Delhi is the capital of India\"\n",
    "result = re.sub(r\"New\\s+\",\"\",s1)\n",
    "print(result)"
   ]
  },
  {
   "cell_type": "code",
   "execution_count": 55,
   "metadata": {},
   "outputs": [
    {
     "name": "stdout",
     "output_type": "stream",
     "text": [
      "in india,  people got affected with corona virus and  are died.\n"
     ]
    }
   ],
   "source": [
    "#**Question 3.** Create one python program in which you have to lowercase the sentence first \n",
    "#and then delete digits from the following sentence.\n",
    "\n",
    "s3 = \"In India, 184 people got affected with Corona virus and 4 are died.\"\n",
    "result3 = re.sub(r\"\\d\",\"\",s2.lower())\n",
    "print(result3)"
   ]
  },
  {
   "cell_type": "code",
   "execution_count": 69,
   "metadata": {},
   "outputs": [
    {
     "name": "stdout",
     "output_type": "stream",
     "text": [
      "['hope', 'built', 'savings', 'able', 'travel', 'hawai']\n",
      "\n",
      "Stemming\n",
      "Stemmer:  <nltk.stem.snowball.SnowballStemmer object at 0x000002354EF6A340>\n",
      "hope built save abl travel hawai\n",
      "Stemmer:  <LancasterStemmer>\n",
      "hop built sav abl travel hawa\n",
      "Stemmer:  <PorterStemmer>\n",
      "hope built save abl travel hawai\n",
      "\n",
      "Lemmatization\n",
      "hope built saving able travel hawai\n"
     ]
    }
   ],
   "source": [
    "#**Question 4.** Do stemming, lemmatization and tokenization from the following sentence.\n",
    "\n",
    "s4 = \"I hope that, when I have built up my savings, I will be able to travel to Hawai.\"\n",
    "import nltk\n",
    "import string\n",
    "from nltk.corpus import stopwords\n",
    "punct = string.punctuation \n",
    "s4_clean=[]\n",
    "data_word_tokenized = nltk.word_tokenize(s4.lower())\n",
    "stop_words = stopwords.words('english')\n",
    "for word in data_word_tokenized:\n",
    "    if word not in punct:\n",
    "        if word not in stop_words:\n",
    "            s4_clean.append(word)\n",
    "\n",
    "print(s4_clean)\n",
    "from nltk.stem import PorterStemmer, LancasterStemmer, SnowballStemmer\n",
    "porter = PorterStemmer()\n",
    "Snowball = SnowballStemmer(\"english\")\n",
    "lancaster = LancasterStemmer()\n",
    "print()\n",
    "print('Stemming')\n",
    "# token = list(nltk.word_tokenize(s4_clean))\n",
    "for stemmer in (Snowball, lancaster, porter):\n",
    "    print(\"Stemmer: \",stemmer)\n",
    "    stemm = [stemmer.stem(t) for t in s4_clean]\n",
    "    print(\" \".join(stemm))\n",
    "print()\n",
    "print('Lemmatization')\n",
    "from nltk.stem import WordNetLemmatizer\n",
    "lemma = WordNetLemmatizer()\n",
    "s4_lemma = [lemma.lemmatize(t) for t in s4_clean]\n",
    "print(\" \".join(s4_lemma))\n"
   ]
  },
  {
   "cell_type": "code",
   "execution_count": 11,
   "metadata": {},
   "outputs": [
    {
     "name": "stdout",
     "output_type": "stream",
     "text": [
      "I love NLP not you\n"
     ]
    },
    {
     "data": {
      "text/plain": [
       "['I', 'l', 'N', 'n', 'y']"
      ]
     },
     "execution_count": 11,
     "metadata": {},
     "output_type": "execute_result"
    }
   ],
   "source": [
    "#**Question 5.** Create one python program from the following sentence.\n",
    "import re\n",
    "s5 = \"I love NLP, not you\"\n",
    "s5 = re.sub(r\",\",\"\",s5)\n",
    "print(s5)\n",
    "[word[0] for word in s5.split()]\n",
    "\n",
    "#output : ['I', 'l', 'N', 'n', 'y']"
   ]
  }
 ],
 "metadata": {
  "kernelspec": {
   "display_name": "Python 3",
   "language": "python",
   "name": "python3"
  },
  "language_info": {
   "codemirror_mode": {
    "name": "ipython",
    "version": 3
   },
   "file_extension": ".py",
   "mimetype": "text/x-python",
   "name": "python",
   "nbconvert_exporter": "python",
   "pygments_lexer": "ipython3",
   "version": "3.8.5"
  }
 },
 "nbformat": 4,
 "nbformat_minor": 4
}
